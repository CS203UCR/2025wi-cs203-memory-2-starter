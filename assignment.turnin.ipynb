{
 "cells": [
  {
   "cell_type": "markdown",
   "metadata": {
    "cs203.is_response": true,
    "deletable": false,
    "tags": []
   },
   "source": [
    "<div class=\"namebox\">    \n",
    "Double Click to edit and enter your\n",
    "\n",
    "1.  Name\n",
    "2.  Student ID\n",
    "3.  @ucr.edu email address\n",
    "    \n",
    "</div>"
   ]
  },
  {
   "cell_type": "markdown",
   "metadata": {
    "alert alert-block alert-warning2": "hidden",
    "alert alert-block alert-warning2_first": true,
    "cs203.is_response": true,
    "cs203.points": 1,
    "cs203.question_type": "completeness",
    "deletable": false,
    "editable": false,
    "tags": []
   },
   "source": [
    "<div class=\"alert alert-block alert-success\">\n",
    "\n",
    "### Question 1 (Correctness)\n",
    "    \n",
    "    \n",
    "Using the code above, what values of `BYTES` and `size` should we run the miss machine with to measure the L1-TLB miss latency?  (The fact that there are two experiments listed is a hint that you'll need to run two different experiments.)\n",
    "\n",
    "</div>    "
   ]
  },
  {
   "cell_type": "markdown",
   "metadata": {
    "alert alert-block alert-warning2": "hidden",
    "alert alert-block alert-warning2_first": true,
    "cs203.is_response": true,
    "cs203.points": 1,
    "cs203.question_type": "completeness",
    "deletable": false
   },
   "source": [
    "<div class=\"alert alert-block alert-success\">   \n",
    "<div class=\"answer\">\n",
    "\n",
    "|| `BYTES` | `size` |\n",
    "|--|------------|--|\n",
    "|Experiment 1| | |\n",
    "|Experiment 2| | |\n",
    "    \n",
    "</div>\n",
    "</div>"
   ]
  },
  {
   "cell_type": "markdown",
   "metadata": {
    "cs203.is_response": true,
    "cs203.question_type": "optional",
    "deletable": false,
    "editable": false,
    "tags": []
   },
   "source": [
    "<div class=\"alert alert-block alert-info\">\n",
    "\n",
    "### Question 2 (Completeness)\n",
    "\n",
    "\n",
    "The measurement above is for a miss to the L1 TLB.  Perform a different experiment to measure the L2 TLB miss latency.  This is harder than it appears at first.\n",
    "    \n",
    "</div>"
   ]
  },
  {
   "cell_type": "code",
   "execution_count": 8,
   "metadata": {
    "cs203.is_response": true,
    "cs203.question_type": "optional",
    "deletable": false,
    "tags": []
   },
   "outputs": [],
   "source": [
    "## Put your commands for Q2 here"
   ]
  },
  {
   "cell_type": "markdown",
   "metadata": {
    "cs203.is_response": true,
    "cs203.question_type": "optional",
    "deletable": false,
    "editable": false,
    "tags": []
   },
   "source": [
    "<div class=\"alert alert-block alert-info\">\n",
    "<div class=\"question optional\">\n",
    "\n",
    "### Question 3 (Completeness)\n",
    "    \n",
    "<div class=\"question-text\">\n",
    "\n",
    "The measurements above are based on 4kB pages, but we can also use 2MB \"huge pages\".  Repeat the experiment above to determine whether 2MB TLB entries can also reside in the L2 TLB.      \n",
    "</div>\n",
    "<div class=\"answer\">\n",
    "\n",
    "A few notes:\n",
    "    \n",
    "1.  This one is a little involved.  You'll need to significantly tweak the experiments we did above.\n",
    "2.  Whether 2MB TLB entries can be in the in the L2 TLB is not clearly specified in any documents I have found, so I don't know the answer.\n",
    "3.  To get the system to use 2MB huge pages, remove the call to `madvise()` in `TLB.cpp` and ask `posix_memalign()` to give 2MB-aligned memory.\n",
    "4.  Look in `TLB.cpp` for examples of how to change `BYTES`.  `TLB_2M()` is a good starting point.\n",
    "\n",
    "</div>\n",
    "</div>\n",
    "</div>"
   ]
  },
  {
   "cell_type": "code",
   "execution_count": 10,
   "metadata": {
    "cs203.is_response": true,
    "cs203.question_type": "optional",
    "deletable": false,
    "tags": []
   },
   "outputs": [],
   "source": [
    "## Put your commands for Q3 here"
   ]
  },
  {
   "cell_type": "markdown",
   "metadata": {
    "cs203.is_response": true,
    "cs203.question_type": "optional",
    "deletable": false
   },
   "source": [
    "<div class=\"alert alert-block alert-info\">\n",
    "<div class=\"answer\">\n",
    "\n",
    "Your answers/thoughts: \n",
    "\n",
    "</div>\n",
    "</div>\n",
    "    "
   ]
  },
  {
   "cell_type": "markdown",
   "metadata": {
    "cs203.is_response": true,
    "cs203.points": 1,
    "cs203.question_type": "completeness",
    "deletable": false,
    "editable": false,
    "tags": []
   },
   "source": [
    "<div class=\"alert alert-block alert-success\"><div class=\"question completeness\"> \n",
    "\n",
    "### Question 4 (Correctness)\n",
    "\n",
    "<div class=\"question-text\">\n",
    "\n",
    "Predict how many bytes of the structs below will occupy.\n",
    "    \n",
    "</div>\n",
    "   \n",
    "<div class=\"answer\">\n",
    "\n",
    "| struct | sizeof() |\n",
    "|--------|----------|\n",
    "| `struct_1` |     | \n",
    "| `struct_2` |     | \n",
    "| `struct_3` |     | \n",
    "| `struct_4` |     | \n",
    "| `struct_5` |     | \n",
    "| `struct_6` |     | \n",
    "| `struct_7` |     | \n",
    "| `struct_8` |     | \n",
    "    \n",
    "</div>\n",
    "</div>\n",
    "</div>"
   ]
  },
  {
   "cell_type": "markdown",
   "metadata": {
    "cs203.is_response": true,
    "cs203.points": 1,
    "cs203.question_type": "completeness",
    "deletable": false
   },
   "source": [
    "<div class=\"alert alert-block alert-success\">    \n",
    "<div class=\"answer\">\n",
    "\n",
    "| struct | sizeof() |\n",
    "|--------|----------|\n",
    "| `struct_1` |     | \n",
    "| `struct_2` |     | \n",
    "| `struct_3` |     | \n",
    "| `struct_4` |     | \n",
    "| `struct_5` |     | \n",
    "| `struct_6` |     | \n",
    "| `struct_7` |     | \n",
    "| `struct_8` |     | \n",
    "    \n",
    "</div>\n",
    "</div>"
   ]
  },
  {
   "cell_type": "markdown",
   "metadata": {
    "cs203.is_response": true,
    "cs203.points": 1,
    "cs203.question_type": "completeness",
    "deletable": false,
    "editable": false,
    "tags": []
   },
   "source": [
    "<div class=\"alert alert-block alert-success\">\n",
    "\n",
    "### Question 5 (Correctness)\n",
    "\n",
    "Use below to measure the cache miss rate for both versions of the code and report them in the answer cell.\n",
    "    \n",
    "</div>"
   ]
  },
  {
   "cell_type": "code",
   "execution_count": 17,
   "metadata": {
    "cs203.is_response": true,
    "cs203.points": 1,
    "cs203.question_type": "completeness",
    "deletable": false,
    "editable": false,
    "tags": []
   },
   "outputs": [
    {
     "data": {
      "text/html": [
       "<style type=\"text/css\">\n",
       "#T_53623_row0_col0, #T_53623_row0_col1, #T_53623_row0_col2, #T_53623_row0_col3, #T_53623_row0_col4, #T_53623_row0_col5, #T_53623_row0_col6, #T_53623_row0_col7, #T_53623_row0_col8, #T_53623_row0_col9, #T_53623_row0_col10, #T_53623_row0_col11, #T_53623_row0_col12, #T_53623_row0_col13, #T_53623_row1_col0, #T_53623_row1_col1, #T_53623_row1_col2, #T_53623_row1_col3, #T_53623_row1_col4, #T_53623_row1_col5, #T_53623_row1_col6, #T_53623_row1_col7, #T_53623_row1_col8, #T_53623_row1_col9, #T_53623_row1_col10, #T_53623_row1_col11, #T_53623_row1_col12, #T_53623_row1_col13 {\n",
       "  font-family: monospace;\n",
       "}\n",
       "</style>\n",
       "<table id=\"T_53623\">\n",
       "  <thead>\n",
       "    <tr>\n",
       "      <th class=\"blank level0\" >&nbsp;</th>\n",
       "      <th id=\"T_53623_level0_col0\" class=\"col_heading level0 col0\" >index</th>\n",
       "      <th id=\"T_53623_level0_col1\" class=\"col_heading level0 col1\" >size</th>\n",
       "      <th id=\"T_53623_level0_col2\" class=\"col_heading level0 col2\" >rep</th>\n",
       "      <th id=\"T_53623_level0_col3\" class=\"col_heading level0 col3\" >arg1</th>\n",
       "      <th id=\"T_53623_level0_col4\" class=\"col_heading level0 col4\" >tile_size</th>\n",
       "      <th id=\"T_53623_level0_col5\" class=\"col_heading level0 col5\" >function</th>\n",
       "      <th id=\"T_53623_level0_col6\" class=\"col_heading level0 col6\" >IC</th>\n",
       "      <th id=\"T_53623_level0_col7\" class=\"col_heading level0 col7\" >Cycles</th>\n",
       "      <th id=\"T_53623_level0_col8\" class=\"col_heading level0 col8\" >CPI</th>\n",
       "      <th id=\"T_53623_level0_col9\" class=\"col_heading level0 col9\" >CT</th>\n",
       "      <th id=\"T_53623_level0_col10\" class=\"col_heading level0 col10\" >ET</th>\n",
       "      <th id=\"T_53623_level0_col11\" class=\"col_heading level0 col11\" >L1_dcache_miss_rate</th>\n",
       "      <th id=\"T_53623_level0_col12\" class=\"col_heading level0 col12\" >L1_dcache_misses</th>\n",
       "      <th id=\"T_53623_level0_col13\" class=\"col_heading level0 col13\" >L1_dcache_accesses</th>\n",
       "    </tr>\n",
       "  </thead>\n",
       "  <tbody>\n",
       "    <tr>\n",
       "      <th id=\"T_53623_level0_row0\" class=\"row_heading level0 row0\" >0</th>\n",
       "      <td id=\"T_53623_row0_col0\" class=\"data row0 col0\" >0</td>\n",
       "      <td id=\"T_53623_row0_col1\" class=\"data row0 col1\" >4194304</td>\n",
       "      <td id=\"T_53623_row0_col2\" class=\"data row0 col2\" >1</td>\n",
       "      <td id=\"T_53623_row0_col3\" class=\"data row0 col3\" >2048</td>\n",
       "      <td id=\"T_53623_row0_col4\" class=\"data row0 col4\" >64</td>\n",
       "      <td id=\"T_53623_row0_col5\" class=\"data row0 col5\" >x_inside</td>\n",
       "      <td id=\"T_53623_row0_col6\" class=\"data row0 col6\" >25290683</td>\n",
       "      <td id=\"T_53623_row0_col7\" class=\"data row0 col7\" >192926924</td>\n",
       "      <td id=\"T_53623_row0_col8\" class=\"data row0 col8\" >7.628379</td>\n",
       "      <td id=\"T_53623_row0_col9\" class=\"data row0 col9\" >0.271761</td>\n",
       "      <td id=\"T_53623_row0_col10\" class=\"data row0 col10\" >0.052430</td>\n",
       "      <td id=\"T_53623_row0_col11\" class=\"data row0 col11\" >0.829812</td>\n",
       "      <td id=\"T_53623_row0_col12\" class=\"data row0 col12\" >6999132</td>\n",
       "      <td id=\"T_53623_row0_col13\" class=\"data row0 col13\" >8434602</td>\n",
       "    </tr>\n",
       "    <tr>\n",
       "      <th id=\"T_53623_level0_row1\" class=\"row_heading level0 row1\" >1</th>\n",
       "      <td id=\"T_53623_row1_col0\" class=\"data row1 col0\" >0</td>\n",
       "      <td id=\"T_53623_row1_col1\" class=\"data row1 col1\" >4194304</td>\n",
       "      <td id=\"T_53623_row1_col2\" class=\"data row1 col2\" >1</td>\n",
       "      <td id=\"T_53623_row1_col3\" class=\"data row1 col3\" >2048</td>\n",
       "      <td id=\"T_53623_row1_col4\" class=\"data row1 col4\" >64</td>\n",
       "      <td id=\"T_53623_row1_col5\" class=\"data row1 col5\" >x_outside</td>\n",
       "      <td id=\"T_53623_row1_col6\" class=\"data row1 col6\" >25227907</td>\n",
       "      <td id=\"T_53623_row1_col7\" class=\"data row1 col7\" >13978469</td>\n",
       "      <td id=\"T_53623_row1_col8\" class=\"data row1 col8\" >0.554088</td>\n",
       "      <td id=\"T_53623_row1_col9\" class=\"data row1 col9\" >0.286369</td>\n",
       "      <td id=\"T_53623_row1_col10\" class=\"data row1 col10\" >0.004003</td>\n",
       "      <td id=\"T_53623_row1_col11\" class=\"data row1 col11\" >0.062713</td>\n",
       "      <td id=\"T_53623_row1_col12\" class=\"data row1 col12\" >527078</td>\n",
       "      <td id=\"T_53623_row1_col13\" class=\"data row1 col13\" >8404570</td>\n",
       "    </tr>\n",
       "  </tbody>\n",
       "</table>\n"
      ],
      "text/plain": [
       "<pandas.io.formats.style.Styler at 0x7f9e07e05250>"
      ]
     },
     "metadata": {},
     "output_type": "display_data"
    }
   ],
   "source": [
    "df = render_csv([\"x_inside.csv\", \"x_outside.csv\"]) display_mono(df)"
   ]
  },
  {
   "cell_type": "markdown",
   "metadata": {
    "cs203.is_response": true,
    "cs203.points": 1,
    "cs203.question_type": "completeness",
    "deleteable": false,
    "tags": []
   },
   "source": [
    "<div class=\"alert alert-block alert-success\">\n",
    "\n",
    "| version | hit rate | \n",
    "|---------|----------|\n",
    "| x loop inside           | | \n",
    "| x loop outside           | | \n",
    "\n",
    "\n",
    "</div>"
   ]
  },
  {
   "cell_type": "markdown",
   "metadata": {
    "cs203.is_response": true,
    "cs203.points": 1,
    "cs203.question_type": "completeness",
    "deletable": false,
    "tags": []
   },
   "source": [
    "<div class=\"alert alert-block alert-info\">\n",
    "\n",
    "### Question 6 (Completeness)\n",
    "\n",
    "What value of `-arg1` should result in a very high (e.g., > 95%) hit rate, even with the `x` loop on the inside?  Try to reason through the correct value before running any experiments.\n",
    "\n",
    "</div>"
   ]
  },
  {
   "cell_type": "code",
   "execution_count": 18,
   "metadata": {
    "cs203.is_response": true,
    "cs203.question_type": "optional",
    "deletable": false,
    "tags": []
   },
   "outputs": [],
   "source": [
    "## Put your commands for Q6 here"
   ]
  },
  {
   "cell_type": "markdown",
   "metadata": {
    "cs203.is_response": true,
    "cs203.points": 1,
    "cs203.question_type": "completeness",
    "deleteable": false,
    "tags": []
   },
   "source": [
    "<div class=\"alert alert-block alert-info\">\n",
    " Answer:\n",
    "\n",
    "</div>"
   ]
  },
  {
   "cell_type": "markdown",
   "metadata": {
    "cs203.is_response": true,
    "cs203.points": 2,
    "cs203.question_type": "correctness",
    "deletable": false,
    "editable": false,
    "tags": []
   },
   "source": [
    "<div class=\"alert alert-block alert-success\">\n",
    "    \n",
    "### Question 7 (Correctness)\n",
    "\n",
    "How many loads does the inner loop perform in total?  How many stores?  Assume the `source` has 4096 element and `kernel` has 512 element?\n",
    "    \n",
    "</div>\n",
    "    "
   ]
  },
  {
   "cell_type": "markdown",
   "metadata": {
    "cs203.is_response": true,
    "cs203.points": 2,
    "cs203.question_type": "correctness",
    "deletable": false,
    "tags": []
   },
   "source": [
    "<div class=\"alert alert-block alert-success\">\n",
    "\n",
    "|  | Inner loop | Outer loop (excluding the inner loop) | \n",
    "|--|-------------|----------|\n",
    "| Loads | \n",
    "| Stores | \n",
    "\n",
    "\n",
    "    \n",
    "</div>    "
   ]
  },
  {
   "cell_type": "markdown",
   "metadata": {
    "cs203.is_response": true,
    "cs203.points": 1,
    "cs203.question_type": "completeness",
    "deletable": false,
    "tags": []
   },
   "source": [
    "<div class=\"alert alert-block alert-success\">\n",
    "    \n",
    "### Question 8 (Correctness)\n",
    "\n",
    "Compute (rather than measure as you did above) the size of the working set of this computation?  What would it be if `kernel` were 32kB, and `source` was 128kB.  Roughly estimate the cache hit rate in each case.\n",
    "    \n",
    "</div>"
   ]
  },
  {
   "cell_type": "markdown",
   "metadata": {
    "cs203.is_response": true,
    "cs203.points": 1,
    "cs203.question_type": "completeness",
    "deletable": false,
    "tags": []
   },
   "source": [
    "<div class=\"alert alert-block alert-success\">\n",
    "<div class=\"answer\">\n",
    " \n",
    "**Working set for 16kB source and 4kB kernel**:\n",
    "\n",
    "**Estimated hit rate**:\n",
    "    \n",
    "**Working set for 128kB source and 32kB kernel**:\n",
    "\n",
    "**Estimated hit rate**:\n",
    "\n",
    "</div>\n",
    "    \n",
    "</div>    "
   ]
  },
  {
   "cell_type": "markdown",
   "metadata": {
    "cs203.is_response": true,
    "cs203.points": 2,
    "cs203.question_type": "correctness",
    "deletable": false,
    "editable": false,
    "tags": []
   },
   "source": [
    "<div class=\"alert alert-block alert-success\">\n",
    "    \n",
    "### Question 9 (Correctness)\n",
    "\n",
    "Find the innermost loop body in both assembly.  Fill out the table below assuming that `kernel` is 128kB (16k entries) and `source` is 512kB (64k entries). \n",
    "\n",
    "| |# of times executed | static insturctions  | dynamic instructions | \n",
    "|--|-|-|-|\n",
    "|untiled | \n",
    "|tiled | \n",
    "\n",
    "**Ratio of Tiled IC/Untiled IC**: \n",
    "\n",
    "    \n",
    "</div>\n",
    "    "
   ]
  },
  {
   "cell_type": "markdown",
   "metadata": {
    "cs203.is_response": true,
    "cs203.points": 2,
    "cs203.question_type": "correctness",
    "tags": []
   },
   "source": [
    "<div class=\"alert alert-block alert-success\">\n",
    "    \n",
    "Answer: \n",
    "\n",
    "| |# of times executed | static insturctions  | dynamic instructions | \n",
    "|--|-|-|-|\n",
    "|untiled | \n",
    "|tiled | \n",
    "\n",
    "**Ratio of Tiled IC/Untiled IC**: \n",
    "\n",
    "You need to show us between what labels are the inner most loops of both sides.\n",
    "</div>\n",
    "    "
   ]
  },
  {
   "cell_type": "markdown",
   "metadata": {
    "cs203.is_response": true,
    "cs203.points": 2,
    "cs203.question_type": "correctness",
    "tags": []
   },
   "source": [
    "<div class=\"alert alert-block alert-warning\">\n",
    "    \n",
    "### Question 10 (Challenging)\n",
    "\n",
    "What `tile_size` helps the program to deliver the best performance? Why do you think that specific `tile_size` works the best?\n",
    "\n",
    "You need to explain why others don't work despite they have the best miss rate or the lowest instruction count.\n",
    "    \n",
    "</div>\n",
    "    "
   ]
  },
  {
   "cell_type": "markdown",
   "metadata": {
    "cs203.is_response": true,
    "cs203.points": 2,
    "cs203.question_type": "correctness",
    "tags": []
   },
   "source": [
    "<div class=\"alert alert-block alert-warning\">\n",
    "    \n",
    "Answer: \n",
    "\n",
    "\n",
    "</div>\n",
    "    "
   ]
  }
 ],
 "metadata": {
  "kernelspec": {
   "display_name": "Python 3 (ipykernel)",
   "language": "python",
   "name": "python3"
  },
  "language_info": {
   "codemirror_mode": {
    "name": "ipython",
    "version": 3
   },
   "file_extension": ".py",
   "mimetype": "text/x-python",
   "name": "python",
   "nbconvert_exporter": "python",
   "pygments_lexer": "ipython3",
   "version": "3.9.7"
  },
  "toc": {
   "base_numbering": 1,
   "nav_menu": {},
   "number_sections": true,
   "sideBar": true,
   "skip_h1_title": false,
   "title_cell": "Table of Contents",
   "title_sidebar": "Contents",
   "toc_cell": false,
   "toc_position": {
    "height": "calc(100% - 180px)",
    "left": "10px",
    "top": "150px",
    "width": "335px"
   },
   "toc_section_display": true,
   "toc_window_display": true
  },
  "toc-autonumbering": true,
  "widgets": {
   "application/vnd.jupyter.widget-state+json": {
    "state": {},
    "version_major": 2,
    "version_minor": 0
   }
  }
 },
 "nbformat": 4,
 "nbformat_minor": 4
}
